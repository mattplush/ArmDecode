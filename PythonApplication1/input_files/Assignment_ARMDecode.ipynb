{
 "cells": [
  {
   "cell_type": "markdown",
   "metadata": {},
   "source": [
    "# Assignment - ARM Decode"
   ]
  },
  {
   "cell_type": "markdown",
   "metadata": {},
   "source": [
    "## Instruction Set Overview\n",
    "\n",
    "This assignment is about decoding ARM 16-bit Thumb instructions. The purpose of the program is to make sure you can read and process the input text file, and that you understand how the instructions are converted from their machine-language representation to something that the processor can use. You are in essence implementing a dissassembler.\n",
    "\n",
    "\n",
    "An overview of this instruction set can vew viewed here:\n",
    "https://developer.arm.com/documentation/dui0473/m/overview-of-the-arm-architecture/arm-and-thumb-instruction-set-overview\n",
    "\n",
    "Notes:\n",
    "\n",
    "1. Make sure to catch undefined actions with an error.\n",
    "1. Skip multiple load/store type instructions (Rlist operand)\n",
    "1. Skip stack pointer offset instructions (5.13)\n",
    "\n",
    "\n",
    "The example file has 22 instructions. Use the binary file to convert the instructions into a list of bytes to construct the individual instructions."
   ]
  },
  {
   "cell_type": "code",
   "execution_count": null,
   "metadata": {},
   "outputs": [],
   "source": [
    "instruction_bytes = []\n",
    "with open(\"arm_thumb_instructions.bin\", 'rb') as inst_file:\n",
    "    instr_str = inst_file.readlines()[0]\n",
    "for byte in bytearray(instr_str):\n",
    "    instruction_bytes.append(byte)"
   ]
  },
  {
   "cell_type": "markdown",
   "metadata": {},
   "source": [
    "Now that the machine-language representation of the instructions is loaded in the array `instruction_bytes`, use the bytes to put together the 22 instructions."
   ]
  },
  {
   "cell_type": "code",
   "execution_count": null,
   "metadata": {
    "nbgrader": {
     "grade": true,
     "grade_id": "cell-9e647a140cde35aa",
     "locked": false,
     "points": 20,
     "schema_version": 1,
     "solution": true
    }
   },
   "outputs": [],
   "source": [
    "\"\"\" BEGIN SOLUTION \"\"\"\n",
    "\"\"\" END SOLUTION \"\"\""
   ]
  },
  {
   "cell_type": "markdown",
   "metadata": {},
   "source": [
    "Implement the function to `machine_to_assembly` to convert the 16-bit \n",
    "instruction to an assembly language instruction. This function should\n",
    "return an orderered list of the format:\n",
    "\n",
    "`['LSR', 'R3', 'R2', '#27']`\n",
    "\n",
    "Make sure that the number of operands and order match what is the Thumb assembler format dictates."
   ]
  },
  {
   "cell_type": "code",
   "execution_count": null,
   "metadata": {
    "nbgrader": {
     "grade": true,
     "grade_id": "cell-4d3d1525b471b9a5",
     "locked": false,
     "points": 80,
     "schema_version": 1,
     "solution": true
    }
   },
   "outputs": [],
   "source": [
    "def machine_to_assembly(instruction):\n",
    "    \"\"\" BEGIN SOLUTION \"\"\"\n",
    "    \"\"\" END SOLUTION \"\"\""
   ]
  }
 ],
 "metadata": {
  "celltoolbar": "Create Assignment",
  "kernelspec": {
   "display_name": "Python 3 (ipykernel)",
   "language": "python",
   "name": "python3"
  },
  "language_info": {
   "codemirror_mode": {
    "name": "ipython",
    "version": 3
   },
   "file_extension": ".py",
   "mimetype": "text/x-python",
   "name": "python",
   "nbconvert_exporter": "python",
   "pygments_lexer": "ipython3",
   "version": "3.9.12"
  }
 },
 "nbformat": 4,
 "nbformat_minor": 2
}
